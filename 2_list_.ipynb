{
  "nbformat": 4,
  "nbformat_minor": 0,
  "metadata": {
    "colab": {
      "provenance": [],
      "authorship_tag": "ABX9TyPX2anMziMuPNA3JJePTtRY",
      "include_colab_link": true
    },
    "kernelspec": {
      "name": "python3",
      "display_name": "Python 3"
    },
    "language_info": {
      "name": "python"
    }
  },
  "cells": [
    {
      "cell_type": "markdown",
      "metadata": {
        "id": "view-in-github",
        "colab_type": "text"
      },
      "source": [
        "<a href=\"https://colab.research.google.com/github/HrushhikeshMate/python-practice/blob/main/2_list_.ipynb\" target=\"_parent\"><img src=\"https://colab.research.google.com/assets/colab-badge.svg\" alt=\"Open In Colab\"/></a>"
      ]
    },
    {
      "cell_type": "code",
      "execution_count": 1,
      "metadata": {
        "id": "I6kweg0Rtuhx"
      },
      "outputs": [],
      "source": [
        "friuts = ['apple','banana','cherry','kiwi','mango','grapes']"
      ]
    },
    {
      "cell_type": "code",
      "source": [
        "f= friuts"
      ],
      "metadata": {
        "id": "rdIq78QiuT8K"
      },
      "execution_count": 2,
      "outputs": []
    },
    {
      "cell_type": "code",
      "source": [
        "f.append('orange')"
      ],
      "metadata": {
        "id": "14WmBKP5uahy"
      },
      "execution_count": 3,
      "outputs": []
    },
    {
      "cell_type": "code",
      "source": [
        "f"
      ],
      "metadata": {
        "colab": {
          "base_uri": "https://localhost:8080/"
        },
        "id": "PhqFRIptudQP",
        "outputId": "dc772aaa-62a9-4d12-da1b-55fb0acbec3f"
      },
      "execution_count": 4,
      "outputs": [
        {
          "output_type": "execute_result",
          "data": {
            "text/plain": [
              "['apple', 'banana', 'cherry', 'kiwi', 'mango', 'grapes', 'orange']"
            ]
          },
          "metadata": {},
          "execution_count": 4
        }
      ]
    },
    {
      "cell_type": "code",
      "source": [
        "f.insert(1,'mango')"
      ],
      "metadata": {
        "id": "IxhdmCLtueFO"
      },
      "execution_count": 5,
      "outputs": []
    },
    {
      "cell_type": "code",
      "source": [
        "f.remove('banana')"
      ],
      "metadata": {
        "id": "qyRKKi7iujXw"
      },
      "execution_count": 6,
      "outputs": []
    },
    {
      "cell_type": "code",
      "source": [
        "f.pop()\n",
        "f"
      ],
      "metadata": {
        "colab": {
          "base_uri": "https://localhost:8080/"
        },
        "id": "-qqa15KFupNw",
        "outputId": "b6310220-ab25-4718-ed9f-372215cd9e6b"
      },
      "execution_count": 7,
      "outputs": [
        {
          "output_type": "execute_result",
          "data": {
            "text/plain": [
              "['apple', 'mango', 'cherry', 'kiwi', 'mango', 'grapes']"
            ]
          },
          "metadata": {},
          "execution_count": 7
        }
      ]
    },
    {
      "cell_type": "code",
      "source": [
        "f.index('kiwi')"
      ],
      "metadata": {
        "colab": {
          "base_uri": "https://localhost:8080/"
        },
        "id": "EUFUWyLHurwv",
        "outputId": "c666f630-2864-4223-ef47-4558caeca3c5"
      },
      "execution_count": 8,
      "outputs": [
        {
          "output_type": "execute_result",
          "data": {
            "text/plain": [
              "3"
            ]
          },
          "metadata": {},
          "execution_count": 8
        }
      ]
    },
    {
      "cell_type": "code",
      "source": [
        "f.count('mango')"
      ],
      "metadata": {
        "colab": {
          "base_uri": "https://localhost:8080/"
        },
        "id": "eP9TDqPUuyTX",
        "outputId": "97bab38e-57ac-4ba7-da94-b3bbee5454e7"
      },
      "execution_count": 9,
      "outputs": [
        {
          "output_type": "execute_result",
          "data": {
            "text/plain": [
              "2"
            ]
          },
          "metadata": {},
          "execution_count": 9
        }
      ]
    },
    {
      "cell_type": "code",
      "source": [
        "f.sort()\n",
        "f"
      ],
      "metadata": {
        "colab": {
          "base_uri": "https://localhost:8080/"
        },
        "id": "4cxDQkk0u3hP",
        "outputId": "14087ba1-ac82-4608-c90b-1eca34a040d6"
      },
      "execution_count": 10,
      "outputs": [
        {
          "output_type": "execute_result",
          "data": {
            "text/plain": [
              "['apple', 'cherry', 'grapes', 'kiwi', 'mango', 'mango']"
            ]
          },
          "metadata": {},
          "execution_count": 10
        }
      ]
    },
    {
      "cell_type": "code",
      "source": [
        "f.reverse()"
      ],
      "metadata": {
        "id": "uN20kNyHu557"
      },
      "execution_count": 11,
      "outputs": []
    },
    {
      "cell_type": "code",
      "source": [
        "numbers = [i for i in range(1,10)]\n",
        "#[expession __ for item in iterable] , process of repeating a set of instruction\n",
        "#[result(what i want) __ syntax(code)]\n",
        "n=numbers"
      ],
      "metadata": {
        "id": "UawMaTjvu9qB"
      },
      "execution_count": 22,
      "outputs": []
    },
    {
      "cell_type": "code",
      "source": [
        "numbers[0:5] # [start : end : step]"
      ],
      "metadata": {
        "colab": {
          "base_uri": "https://localhost:8080/"
        },
        "id": "Ta69A1Z_vEoY",
        "outputId": "bb6be0e1-97de-429c-b968-453cb6684e1e"
      },
      "execution_count": 23,
      "outputs": [
        {
          "output_type": "execute_result",
          "data": {
            "text/plain": [
              "[1, 2, 3, 4, 5]"
            ]
          },
          "metadata": {},
          "execution_count": 23
        }
      ]
    },
    {
      "cell_type": "code",
      "source": [
        "n[:-5]"
      ],
      "metadata": {
        "colab": {
          "base_uri": "https://localhost:8080/"
        },
        "id": "zxoUhEd9vIzM",
        "outputId": "3f602eb0-5450-441a-dcbe-ac2525ca44c2"
      },
      "execution_count": 25,
      "outputs": [
        {
          "output_type": "execute_result",
          "data": {
            "text/plain": [
              "[1, 2, 3, 4]"
            ]
          },
          "metadata": {},
          "execution_count": 25
        }
      ]
    },
    {
      "cell_type": "code",
      "source": [
        "n[::2]"
      ],
      "metadata": {
        "colab": {
          "base_uri": "https://localhost:8080/"
        },
        "id": "kh4tsV9RwIS9",
        "outputId": "0dabe051-43f7-43a2-d392-b57e6ebc41cc"
      },
      "execution_count": 26,
      "outputs": [
        {
          "output_type": "execute_result",
          "data": {
            "text/plain": [
              "[1, 3, 5, 7, 9]"
            ]
          },
          "metadata": {},
          "execution_count": 26
        }
      ]
    },
    {
      "cell_type": "code",
      "source": [
        "n[::-1]"
      ],
      "metadata": {
        "colab": {
          "base_uri": "https://localhost:8080/"
        },
        "id": "EcgSwQ4ZwbpI",
        "outputId": "61e59557-e7af-4554-ddc5-2e1420733df3"
      },
      "execution_count": 27,
      "outputs": [
        {
          "output_type": "execute_result",
          "data": {
            "text/plain": [
              "[9, 8, 7, 6, 5, 4, 3, 2, 1]"
            ]
          },
          "metadata": {},
          "execution_count": 27
        }
      ]
    },
    {
      "cell_type": "markdown",
      "source": [
        "## list compreshension\n"
      ],
      "metadata": {
        "id": "mf-16DnTBiDB"
      }
    },
    {
      "cell_type": "markdown",
      "source": [
        "1. Basic synatx -- [expession __ for item in iterable] , process of repeating a set of instruction\n",
        "\n",
        "**[result(what i want) __ syntax(code)]**\n",
        "\n",
        "2. With Conditinal Logic -- [expession __ for item in iterable __ if condition]\n",
        "\n",
        "**[result(what i want) __ syntax(code) __ if condition]**\n",
        "\n",
        "3. Nested list comprehension -- [expession __ for **item1** in iterable1 __ for **item1** in iterable 2  ]\n",
        "\n",
        "**[result from list 1 , then list 2]**\n",
        "\n",
        "\n"
      ],
      "metadata": {
        "id": "4O7BuhbrBllg"
      }
    },
    {
      "cell_type": "code",
      "source": [
        "# 2\n",
        "\n",
        "lit=[]\n",
        "for i in range(10):\n",
        "  if i%2 ==0:\n",
        "    lit.append(i)\n",
        "\n",
        "print(lit)"
      ],
      "metadata": {
        "colab": {
          "base_uri": "https://localhost:8080/"
        },
        "id": "suzFJlP_wd8D",
        "outputId": "ad21dcaa-f11e-44b9-f9f2-03c7f0058374"
      },
      "execution_count": 40,
      "outputs": [
        {
          "output_type": "stream",
          "name": "stdout",
          "text": [
            "[0, 2, 4, 6, 8]\n"
          ]
        }
      ]
    },
    {
      "cell_type": "code",
      "source": [
        "[i for i in range(10) ]"
      ],
      "metadata": {
        "colab": {
          "base_uri": "https://localhost:8080/"
        },
        "id": "5mSv5dyhDKP1",
        "outputId": "b062364d-5290-4bc4-a28f-6946c6ea42d5"
      },
      "execution_count": 31,
      "outputs": [
        {
          "output_type": "execute_result",
          "data": {
            "text/plain": [
              "[0, 1, 2, 3, 4, 5, 6, 7, 8, 9]"
            ]
          },
          "metadata": {},
          "execution_count": 31
        }
      ]
    },
    {
      "cell_type": "code",
      "source": [
        "[i for i in range(10)  if i%2==0]"
      ],
      "metadata": {
        "colab": {
          "base_uri": "https://localhost:8080/"
        },
        "id": "1m-6EJjwDcCO",
        "outputId": "3dc48d23-56a5-496a-a906-a5eb20123ad4"
      },
      "execution_count": 32,
      "outputs": [
        {
          "output_type": "execute_result",
          "data": {
            "text/plain": [
              "[0, 2, 4, 6, 8]"
            ]
          },
          "metadata": {},
          "execution_count": 32
        }
      ]
    },
    {
      "cell_type": "markdown",
      "source": [
        "## https://chatgpt.com/share/68b12c42-93a4-800e-893b-8d854d3f811e"
      ],
      "metadata": {
        "id": "9DpkgQXUFSGr"
      }
    },
    {
      "cell_type": "code",
      "source": [
        "# 2\n",
        "\n",
        "lit=[]\n",
        "count=0\n",
        "for i in range(10):\n",
        "\n",
        "  if i%2 ==0:\n",
        "    lit.append(i)\n",
        "  else:\n",
        "    count+=1\n",
        "print('tis is count:' ,count)\n",
        "\n",
        "print(lit)"
      ],
      "metadata": {
        "colab": {
          "base_uri": "https://localhost:8080/"
        },
        "id": "0ToQWfxtDjc3",
        "outputId": "2568083d-b19a-4ce2-c43d-0cbf0840dd3a"
      },
      "execution_count": 41,
      "outputs": [
        {
          "output_type": "stream",
          "name": "stdout",
          "text": [
            "tis is count: 5\n",
            "[0, 2, 4, 6, 8]\n"
          ]
        }
      ]
    },
    {
      "cell_type": "code",
      "source": [],
      "metadata": {
        "id": "rcOOD5fiE0JR"
      },
      "execution_count": null,
      "outputs": []
    }
  ]
}