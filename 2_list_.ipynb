{
  "nbformat": 4,
  "nbformat_minor": 0,
  "metadata": {
    "colab": {
      "provenance": [],
      "authorship_tag": "ABX9TyNghSl6f+ws+wEJHEPHp3yn",
      "include_colab_link": true
    },
    "kernelspec": {
      "name": "python3",
      "display_name": "Python 3"
    },
    "language_info": {
      "name": "python"
    }
  },
  "cells": [
    {
      "cell_type": "markdown",
      "metadata": {
        "id": "view-in-github",
        "colab_type": "text"
      },
      "source": [
        "<a href=\"https://colab.research.google.com/github/HrushhikeshMate/python-practice/blob/main/2_list_.ipynb\" target=\"_parent\"><img src=\"https://colab.research.google.com/assets/colab-badge.svg\" alt=\"Open In Colab\"/></a>"
      ]
    },
    {
      "cell_type": "code",
      "execution_count": 1,
      "metadata": {
        "id": "I6kweg0Rtuhx"
      },
      "outputs": [],
      "source": [
        "friuts = ['apple','banana','cherry','kiwi','mango','grapes']"
      ]
    },
    {
      "cell_type": "code",
      "source": [
        "f= friuts"
      ],
      "metadata": {
        "id": "rdIq78QiuT8K"
      },
      "execution_count": 2,
      "outputs": []
    },
    {
      "cell_type": "code",
      "source": [
        "f.append('orange')"
      ],
      "metadata": {
        "id": "14WmBKP5uahy"
      },
      "execution_count": 3,
      "outputs": []
    },
    {
      "cell_type": "code",
      "source": [
        "f"
      ],
      "metadata": {
        "colab": {
          "base_uri": "https://localhost:8080/"
        },
        "id": "PhqFRIptudQP",
        "outputId": "dc772aaa-62a9-4d12-da1b-55fb0acbec3f"
      },
      "execution_count": 4,
      "outputs": [
        {
          "output_type": "execute_result",
          "data": {
            "text/plain": [
              "['apple', 'banana', 'cherry', 'kiwi', 'mango', 'grapes', 'orange']"
            ]
          },
          "metadata": {},
          "execution_count": 4
        }
      ]
    },
    {
      "cell_type": "code",
      "source": [
        "f.insert(1,'mango')"
      ],
      "metadata": {
        "id": "IxhdmCLtueFO"
      },
      "execution_count": 5,
      "outputs": []
    },
    {
      "cell_type": "code",
      "source": [
        "f.remove('banana')"
      ],
      "metadata": {
        "id": "qyRKKi7iujXw"
      },
      "execution_count": 6,
      "outputs": []
    },
    {
      "cell_type": "code",
      "source": [
        "f.pop()\n",
        "f"
      ],
      "metadata": {
        "colab": {
          "base_uri": "https://localhost:8080/"
        },
        "id": "-qqa15KFupNw",
        "outputId": "b6310220-ab25-4718-ed9f-372215cd9e6b"
      },
      "execution_count": 7,
      "outputs": [
        {
          "output_type": "execute_result",
          "data": {
            "text/plain": [
              "['apple', 'mango', 'cherry', 'kiwi', 'mango', 'grapes']"
            ]
          },
          "metadata": {},
          "execution_count": 7
        }
      ]
    },
    {
      "cell_type": "code",
      "source": [
        "f.index('kiwi')"
      ],
      "metadata": {
        "colab": {
          "base_uri": "https://localhost:8080/"
        },
        "id": "EUFUWyLHurwv",
        "outputId": "c666f630-2864-4223-ef47-4558caeca3c5"
      },
      "execution_count": 8,
      "outputs": [
        {
          "output_type": "execute_result",
          "data": {
            "text/plain": [
              "3"
            ]
          },
          "metadata": {},
          "execution_count": 8
        }
      ]
    },
    {
      "cell_type": "code",
      "source": [
        "f.count('mango')"
      ],
      "metadata": {
        "colab": {
          "base_uri": "https://localhost:8080/"
        },
        "id": "eP9TDqPUuyTX",
        "outputId": "97bab38e-57ac-4ba7-da94-b3bbee5454e7"
      },
      "execution_count": 9,
      "outputs": [
        {
          "output_type": "execute_result",
          "data": {
            "text/plain": [
              "2"
            ]
          },
          "metadata": {},
          "execution_count": 9
        }
      ]
    },
    {
      "cell_type": "code",
      "source": [
        "f.sort()\n",
        "f"
      ],
      "metadata": {
        "colab": {
          "base_uri": "https://localhost:8080/"
        },
        "id": "4cxDQkk0u3hP",
        "outputId": "14087ba1-ac82-4608-c90b-1eca34a040d6"
      },
      "execution_count": 10,
      "outputs": [
        {
          "output_type": "execute_result",
          "data": {
            "text/plain": [
              "['apple', 'cherry', 'grapes', 'kiwi', 'mango', 'mango']"
            ]
          },
          "metadata": {},
          "execution_count": 10
        }
      ]
    },
    {
      "cell_type": "code",
      "source": [
        "f.reverse()"
      ],
      "metadata": {
        "id": "uN20kNyHu557"
      },
      "execution_count": 11,
      "outputs": []
    },
    {
      "cell_type": "code",
      "source": [
        "numbers = [i for i in range(1,10)]\n",
        "#[expession __ for item in iterable] , process of repeating a set of instruction\n",
        "#[result(what i want) __ syntax(code)]\n",
        "n=numbers"
      ],
      "metadata": {
        "id": "UawMaTjvu9qB"
      },
      "execution_count": 22,
      "outputs": []
    },
    {
      "cell_type": "code",
      "source": [
        "numbers[0:5] # [start : end : step]"
      ],
      "metadata": {
        "colab": {
          "base_uri": "https://localhost:8080/"
        },
        "id": "Ta69A1Z_vEoY",
        "outputId": "bb6be0e1-97de-429c-b968-453cb6684e1e"
      },
      "execution_count": 23,
      "outputs": [
        {
          "output_type": "execute_result",
          "data": {
            "text/plain": [
              "[1, 2, 3, 4, 5]"
            ]
          },
          "metadata": {},
          "execution_count": 23
        }
      ]
    },
    {
      "cell_type": "code",
      "source": [
        "n[:-5]"
      ],
      "metadata": {
        "colab": {
          "base_uri": "https://localhost:8080/"
        },
        "id": "zxoUhEd9vIzM",
        "outputId": "3f602eb0-5450-441a-dcbe-ac2525ca44c2"
      },
      "execution_count": 25,
      "outputs": [
        {
          "output_type": "execute_result",
          "data": {
            "text/plain": [
              "[1, 2, 3, 4]"
            ]
          },
          "metadata": {},
          "execution_count": 25
        }
      ]
    },
    {
      "cell_type": "code",
      "source": [
        "n[::2]"
      ],
      "metadata": {
        "colab": {
          "base_uri": "https://localhost:8080/"
        },
        "id": "kh4tsV9RwIS9",
        "outputId": "0dabe051-43f7-43a2-d392-b57e6ebc41cc"
      },
      "execution_count": 26,
      "outputs": [
        {
          "output_type": "execute_result",
          "data": {
            "text/plain": [
              "[1, 3, 5, 7, 9]"
            ]
          },
          "metadata": {},
          "execution_count": 26
        }
      ]
    },
    {
      "cell_type": "code",
      "source": [
        "n[::-1]"
      ],
      "metadata": {
        "colab": {
          "base_uri": "https://localhost:8080/"
        },
        "id": "EcgSwQ4ZwbpI",
        "outputId": "61e59557-e7af-4554-ddc5-2e1420733df3"
      },
      "execution_count": 27,
      "outputs": [
        {
          "output_type": "execute_result",
          "data": {
            "text/plain": [
              "[9, 8, 7, 6, 5, 4, 3, 2, 1]"
            ]
          },
          "metadata": {},
          "execution_count": 27
        }
      ]
    },
    {
      "cell_type": "markdown",
      "source": [
        "## list compreshension\n"
      ],
      "metadata": {
        "id": "mf-16DnTBiDB"
      }
    },
    {
      "cell_type": "markdown",
      "source": [
        "1. Basic synatx -- [expession __ for item in iterable] , process of repeating a set of instruction\n",
        "\n",
        "**[result(what i want) __ syntax(code)]**\n",
        "\n",
        "2. With Conditinal Logic -- [expession __ for item in iterable __ if condition]\n",
        "\n",
        "**[result(what i want) __ syntax(code) __ if condition]**\n",
        "\n",
        "3. Nested list comprehension -- [expession __ for **item1** in iterable1 __ for **item1** in iterable 2  ]\n",
        "\n",
        "**[result from list 1 , then list 2]**\n",
        "\n",
        "\n"
      ],
      "metadata": {
        "id": "4O7BuhbrBllg"
      }
    },
    {
      "cell_type": "code",
      "source": [
        "# 2\n",
        "\n",
        "lit=[]\n",
        "for i in range(10):\n",
        "  if i%2 ==0:\n",
        "    lit.append(i)\n",
        "\n",
        "print(lit)"
      ],
      "metadata": {
        "colab": {
          "base_uri": "https://localhost:8080/"
        },
        "id": "suzFJlP_wd8D",
        "outputId": "ad21dcaa-f11e-44b9-f9f2-03c7f0058374"
      },
      "execution_count": 40,
      "outputs": [
        {
          "output_type": "stream",
          "name": "stdout",
          "text": [
            "[0, 2, 4, 6, 8]\n"
          ]
        }
      ]
    },
    {
      "cell_type": "code",
      "source": [
        "[i for i in range(10) ]"
      ],
      "metadata": {
        "colab": {
          "base_uri": "https://localhost:8080/"
        },
        "id": "5mSv5dyhDKP1",
        "outputId": "b062364d-5290-4bc4-a28f-6946c6ea42d5"
      },
      "execution_count": 31,
      "outputs": [
        {
          "output_type": "execute_result",
          "data": {
            "text/plain": [
              "[0, 1, 2, 3, 4, 5, 6, 7, 8, 9]"
            ]
          },
          "metadata": {},
          "execution_count": 31
        }
      ]
    },
    {
      "cell_type": "code",
      "source": [
        "[i for i in range(10)  if i%2==0]"
      ],
      "metadata": {
        "colab": {
          "base_uri": "https://localhost:8080/"
        },
        "id": "1m-6EJjwDcCO",
        "outputId": "3dc48d23-56a5-496a-a906-a5eb20123ad4"
      },
      "execution_count": 32,
      "outputs": [
        {
          "output_type": "execute_result",
          "data": {
            "text/plain": [
              "[0, 2, 4, 6, 8]"
            ]
          },
          "metadata": {},
          "execution_count": 32
        }
      ]
    },
    {
      "cell_type": "markdown",
      "source": [
        "## https://chatgpt.com/share/68b12c42-93a4-800e-893b-8d854d3f811e"
      ],
      "metadata": {
        "id": "9DpkgQXUFSGr"
      }
    },
    {
      "cell_type": "code",
      "source": [
        "# 2\n",
        "# Inside the loop = resets every iteration.\n",
        "\n",
        " # Outside the loop = accumulates across iterations\n",
        "lit=[]\n",
        "count=0\n",
        "for i in range(10):\n",
        "\n",
        "  if i%2 ==0:\n",
        "    lit.append(i)\n",
        "  else:\n",
        "    count+=1\n",
        "print('tis is count:' ,count)\n",
        "\n",
        "print(lit)"
      ],
      "metadata": {
        "colab": {
          "base_uri": "https://localhost:8080/"
        },
        "id": "0ToQWfxtDjc3",
        "outputId": "9c956d5c-56b5-4568-e987-3ddc9657170d"
      },
      "execution_count": 42,
      "outputs": [
        {
          "output_type": "stream",
          "name": "stdout",
          "text": [
            "tis is count: 5\n",
            "[0, 2, 4, 6, 8]\n"
          ]
        }
      ]
    },
    {
      "cell_type": "code",
      "source": [
        "#3 nested\n",
        "\n",
        "l1=[1,2,3,4]\n",
        "l2=['a','b','c','d']\n",
        "\n",
        "pair=[[i,j] for i in l1 for j in l2]"
      ],
      "metadata": {
        "id": "rcOOD5fiE0JR"
      },
      "execution_count": 43,
      "outputs": []
    },
    {
      "cell_type": "code",
      "source": [
        "pair"
      ],
      "metadata": {
        "colab": {
          "base_uri": "https://localhost:8080/"
        },
        "id": "uug8kn2-GshI",
        "outputId": "7a9e1423-c171-49e5-e1c8-d9f54d1a85fe"
      },
      "execution_count": 44,
      "outputs": [
        {
          "output_type": "execute_result",
          "data": {
            "text/plain": [
              "[[1, 'a'],\n",
              " [1, 'b'],\n",
              " [1, 'c'],\n",
              " [1, 'd'],\n",
              " [2, 'a'],\n",
              " [2, 'b'],\n",
              " [2, 'c'],\n",
              " [2, 'd'],\n",
              " [3, 'a'],\n",
              " [3, 'b'],\n",
              " [3, 'c'],\n",
              " [3, 'd'],\n",
              " [4, 'a'],\n",
              " [4, 'b'],\n",
              " [4, 'c'],\n",
              " [4, 'd']]"
            ]
          },
          "metadata": {},
          "execution_count": 44
        }
      ]
    },
    {
      "cell_type": "code",
      "source": [
        "#cfrom ast import Lambda\n",
        "# Lambda\n",
        "\n",
        "add= lambda a,b: a+b\n",
        "add(5,6)"
      ],
      "metadata": {
        "colab": {
          "base_uri": "https://localhost:8080/"
        },
        "id": "MyKbitgVGteF",
        "outputId": "5a555c75-43ea-4517-bdd3-3f94707e76f1"
      },
      "execution_count": 45,
      "outputs": [
        {
          "output_type": "execute_result",
          "data": {
            "text/plain": [
              "11"
            ]
          },
          "metadata": {},
          "execution_count": 45
        }
      ]
    },
    {
      "cell_type": "code",
      "source": [
        "even = lambda i : i%2 ==0\n",
        "even(10)"
      ],
      "metadata": {
        "colab": {
          "base_uri": "https://localhost:8080/"
        },
        "id": "7AHJrM_iJNFG",
        "outputId": "17e86238-9125-4316-8652-6ec92579b7f3"
      },
      "execution_count": 47,
      "outputs": [
        {
          "output_type": "execute_result",
          "data": {
            "text/plain": [
              "True"
            ]
          },
          "metadata": {},
          "execution_count": 47
        }
      ]
    },
    {
      "cell_type": "code",
      "source": [
        "even(15)"
      ],
      "metadata": {
        "colab": {
          "base_uri": "https://localhost:8080/"
        },
        "id": "__MAVNkwJTRr",
        "outputId": "d6b5d4f8-5476-4a40-8745-e98c77114bb3"
      },
      "execution_count": 48,
      "outputs": [
        {
          "output_type": "execute_result",
          "data": {
            "text/plain": [
              "False"
            ]
          },
          "metadata": {},
          "execution_count": 48
        }
      ]
    },
    {
      "cell_type": "code",
      "source": [
        "# Map = is a simple tool for applying a function to every item in an iterable, like a list\n",
        "\n",
        "num = [i for i in range(11)]\n",
        "\n",
        "list(map(lambda x :x*x, num))"
      ],
      "metadata": {
        "colab": {
          "base_uri": "https://localhost:8080/"
        },
        "id": "otaMkoiTJWvA",
        "outputId": "15b19b8a-ac42-491b-e896-8e3d0273cc4d"
      },
      "execution_count": 49,
      "outputs": [
        {
          "output_type": "execute_result",
          "data": {
            "text/plain": [
              "[0, 1, 4, 9, 16, 25, 36, 49, 64, 81, 100]"
            ]
          },
          "metadata": {},
          "execution_count": 49
        }
      ]
    },
    {
      "cell_type": "code",
      "source": [
        "sq=lambda x:x*x\n",
        "sq(5)"
      ],
      "metadata": {
        "colab": {
          "base_uri": "https://localhost:8080/"
        },
        "id": "GGzY_odTJrt7",
        "outputId": "17ea7ca5-e356-4748-8300-758f2cddea59"
      },
      "execution_count": 62,
      "outputs": [
        {
          "output_type": "execute_result",
          "data": {
            "text/plain": [
              "25"
            ]
          },
          "metadata": {},
          "execution_count": 62
        }
      ]
    },
    {
      "cell_type": "code",
      "source": [
        "up_word = list(map(str.upper,friuts))"
      ],
      "metadata": {
        "id": "3IzBYvo0J2ye"
      },
      "execution_count": 63,
      "outputs": []
    },
    {
      "cell_type": "code",
      "source": [
        "up_word"
      ],
      "metadata": {
        "colab": {
          "base_uri": "https://localhost:8080/"
        },
        "id": "jk7P4UPnJ3YO",
        "outputId": "99b1d2bc-59a3-49a5-cdb3-0d437425a25d"
      },
      "execution_count": 64,
      "outputs": [
        {
          "output_type": "execute_result",
          "data": {
            "text/plain": [
              "['MANGO', 'MANGO', 'KIWI', 'GRAPES', 'CHERRY', 'APPLE']"
            ]
          },
          "metadata": {},
          "execution_count": 64
        }
      ]
    },
    {
      "cell_type": "code",
      "source": [
        "l1= [i for i in range(13)]\n",
        "list(filter(even,l1))"
      ],
      "metadata": {
        "colab": {
          "base_uri": "https://localhost:8080/"
        },
        "id": "eKTz58bXLCK1",
        "outputId": "5ac72ab3-7bb1-475b-c069-159cb1bd4d4b"
      },
      "execution_count": 65,
      "outputs": [
        {
          "output_type": "execute_result",
          "data": {
            "text/plain": [
              "[0, 2, 4, 6, 8, 10, 12]"
            ]
          },
          "metadata": {},
          "execution_count": 65
        }
      ]
    },
    {
      "cell_type": "code",
      "source": [
        "gthan_five= list(filter(lambda x:x>5, numbers))\n",
        "gthan_five"
      ],
      "metadata": {
        "colab": {
          "base_uri": "https://localhost:8080/"
        },
        "id": "bGkShVZPL1-V",
        "outputId": "954bac67-9a15-4d81-931e-b15529321058"
      },
      "execution_count": 66,
      "outputs": [
        {
          "output_type": "execute_result",
          "data": {
            "text/plain": [
              "[6, 7, 8, 9]"
            ]
          },
          "metadata": {},
          "execution_count": 66
        }
      ]
    },
    {
      "cell_type": "code",
      "source": [
        "list(filter(lambda x:x>2 and x%2==0, numbers))"
      ],
      "metadata": {
        "colab": {
          "base_uri": "https://localhost:8080/"
        },
        "id": "4d8Cka0KMIPj",
        "outputId": "ce576e88-83a8-44a9-cd3f-7287ea438f17"
      },
      "execution_count": 68,
      "outputs": [
        {
          "output_type": "execute_result",
          "data": {
            "text/plain": [
              "[4, 6, 8]"
            ]
          },
          "metadata": {},
          "execution_count": 68
        }
      ]
    },
    {
      "cell_type": "code",
      "source": [],
      "metadata": {
        "id": "TCfGzEhyMUUW"
      },
      "execution_count": null,
      "outputs": []
    }
  ]
}