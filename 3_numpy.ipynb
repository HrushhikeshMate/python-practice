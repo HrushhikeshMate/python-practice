{
  "nbformat": 4,
  "nbformat_minor": 0,
  "metadata": {
    "colab": {
      "provenance": [],
      "authorship_tag": "ABX9TyMCQKU+jSbMAxA+Hf86N+Ye",
      "include_colab_link": true
    },
    "kernelspec": {
      "name": "python3",
      "display_name": "Python 3"
    },
    "language_info": {
      "name": "python"
    }
  },
  "cells": [
    {
      "cell_type": "markdown",
      "metadata": {
        "id": "view-in-github",
        "colab_type": "text"
      },
      "source": [
        "<a href=\"https://colab.research.google.com/github/HrushhikeshMate/python-practice/blob/main/3_numpy.ipynb\" target=\"_parent\"><img src=\"https://colab.research.google.com/assets/colab-badge.svg\" alt=\"Open In Colab\"/></a>"
      ]
    },
    {
      "cell_type": "code",
      "execution_count": null,
      "metadata": {
        "colab": {
          "base_uri": "https://localhost:8080/"
        },
        "id": "1muGR1WOMsYP",
        "outputId": "7bc86c83-a5a3-426b-cd59-02648401c01b"
      },
      "outputs": [
        {
          "output_type": "execute_result",
          "data": {
            "text/plain": [
              "array([1, 2, 3, 4, 5])"
            ]
          },
          "metadata": {},
          "execution_count": 2
        }
      ],
      "source": [
        "import numpy as np\n",
        "arr = np.array([1,2,3,4,5])\n",
        "arr"
      ]
    },
    {
      "cell_type": "code",
      "source": [
        "print(arr)"
      ],
      "metadata": {
        "colab": {
          "base_uri": "https://localhost:8080/"
        },
        "id": "26A3nQWANBfG",
        "outputId": "9ecd46e9-5435-42e7-88b2-273b201825d8"
      },
      "execution_count": null,
      "outputs": [
        {
          "output_type": "stream",
          "name": "stdout",
          "text": [
            "[1 2 3 4 5]\n"
          ]
        }
      ]
    },
    {
      "cell_type": "code",
      "source": [
        "arr.reshape(1,5)"
      ],
      "metadata": {
        "colab": {
          "base_uri": "https://localhost:8080/"
        },
        "id": "VOHZQ-oLNUfF",
        "outputId": "b0fa4fce-aa5c-4476-cbf2-be4c21e965fc"
      },
      "execution_count": null,
      "outputs": [
        {
          "output_type": "execute_result",
          "data": {
            "text/plain": [
              "array([[1, 2, 3, 4, 5]])"
            ]
          },
          "metadata": {},
          "execution_count": 4
        }
      ]
    },
    {
      "cell_type": "code",
      "source": [
        "count =0\n",
        "while count <5:\n",
        "  print(count)\n",
        "  count+= 1"
      ],
      "metadata": {
        "id": "ZHi1MlniNXng",
        "colab": {
          "base_uri": "https://localhost:8080/"
        },
        "outputId": "eadd37a3-5b59-4817-cc92-88a3f92e53b0"
      },
      "execution_count": 1,
      "outputs": [
        {
          "output_type": "stream",
          "name": "stdout",
          "text": [
            "0\n",
            "1\n",
            "2\n",
            "3\n",
            "4\n"
          ]
        }
      ]
    },
    {
      "cell_type": "code",
      "source": [
        "n =10\n",
        "sum=0\n",
        "count=1\n",
        "\n",
        "while count <=n:\n",
        "  sum =sum+ count\n",
        "  count +=1\n",
        "\n",
        "print(sum)"
      ],
      "metadata": {
        "colab": {
          "base_uri": "https://localhost:8080/"
        },
        "id": "t6o10qMJXslt",
        "outputId": "3096e37d-6d7e-4252-c6a5-d4b1847f2061"
      },
      "execution_count": 5,
      "outputs": [
        {
          "output_type": "stream",
          "name": "stdout",
          "text": [
            "55\n"
          ]
        }
      ]
    },
    {
      "cell_type": "code",
      "source": [
        "count=0\n",
        "for i in range(11):\n",
        "  count+=i\n",
        "\n",
        "print(count)\n"
      ],
      "metadata": {
        "colab": {
          "base_uri": "https://localhost:8080/"
        },
        "id": "MVJim4pLYEte",
        "outputId": "efec7bef-9d71-4c84-b564-0eb47e294170"
      },
      "execution_count": 10,
      "outputs": [
        {
          "output_type": "stream",
          "name": "stdout",
          "text": [
            "55\n"
          ]
        }
      ]
    },
    {
      "cell_type": "code",
      "source": [
        "count=0\n",
        "for i in range(1,101):\n",
        "  if i >1:\n",
        "    for x in range(2,i):\n",
        "      if i%x==0:\n",
        "        break\n",
        "    else:\n",
        "      print(i, end= ' ')\n",
        "      count+=1\n",
        "\n",
        "print('\\n the count is :',count)"
      ],
      "metadata": {
        "colab": {
          "base_uri": "https://localhost:8080/"
        },
        "id": "W-Ql1zgBYVhh",
        "outputId": "763f21e3-3312-4082-89bc-26a8b3ad8479"
      },
      "execution_count": 19,
      "outputs": [
        {
          "output_type": "stream",
          "name": "stdout",
          "text": [
            "2 3 5 7 11 13 17 19 23 29 31 37 41 43 47 53 59 61 67 71 73 79 83 89 97 \n",
            " the count is : 25\n"
          ]
        }
      ]
    },
    {
      "cell_type": "code",
      "source": [
        "lit=[]\n",
        "for i in range(10):\n",
        "  lit.append(i**2)\n",
        "print(lit)\n"
      ],
      "metadata": {
        "colab": {
          "base_uri": "https://localhost:8080/"
        },
        "id": "56k2xy04ZOXI",
        "outputId": "9a35891b-665e-4e1a-ce2b-6bc519d87d93"
      },
      "execution_count": 22,
      "outputs": [
        {
          "output_type": "stream",
          "name": "stdout",
          "text": [
            "[0, 1, 4, 9, 16, 25, 36, 49, 64, 81]\n"
          ]
        }
      ]
    },
    {
      "cell_type": "code",
      "source": [
        "[i**2 for i in range(15) ]"
      ],
      "metadata": {
        "colab": {
          "base_uri": "https://localhost:8080/"
        },
        "id": "86Q2amFZbpAA",
        "outputId": "1c70deb9-4c1b-43a6-a05b-0a58173cfba6"
      },
      "execution_count": 23,
      "outputs": [
        {
          "output_type": "execute_result",
          "data": {
            "text/plain": [
              "[0, 1, 4, 9, 16, 25, 36, 49, 64, 81, 100, 121, 144, 169, 196]"
            ]
          },
          "metadata": {},
          "execution_count": 23
        }
      ]
    },
    {
      "cell_type": "code",
      "source": [
        "add = lambda a,d:a*d\n",
        "\n",
        "add(5,6)\n"
      ],
      "metadata": {
        "colab": {
          "base_uri": "https://localhost:8080/"
        },
        "id": "kO2CzeuNbzWB",
        "outputId": "a846c437-2b3f-4336-dab3-1108fca67665"
      },
      "execution_count": 24,
      "outputs": [
        {
          "output_type": "execute_result",
          "data": {
            "text/plain": [
              "30"
            ]
          },
          "metadata": {},
          "execution_count": 24
        }
      ]
    },
    {
      "cell_type": "markdown",
      "source": [
        "# pandas\n"
      ],
      "metadata": {
        "id": "j3wm9RiSc8C0"
      }
    },
    {
      "cell_type": "code",
      "source": [
        "import pandas as pd\n"
      ],
      "metadata": {
        "id": "x9wJrJcvcNkX"
      },
      "execution_count": 25,
      "outputs": []
    },
    {
      "cell_type": "code",
      "source": [
        "data= {'Name':['me','kate','anay'],\n",
        "       'Age':[24,35,24],\n",
        "       'city': ['nashik','nagpur','dublin']\n",
        "\n",
        "}"
      ],
      "metadata": {
        "id": "o8FNaQnvdBY4"
      },
      "execution_count": 27,
      "outputs": []
    },
    {
      "cell_type": "code",
      "source": [
        "df=pd.DataFrame(data)"
      ],
      "metadata": {
        "id": "SjIFIoqQdVes"
      },
      "execution_count": 29,
      "outputs": []
    },
    {
      "cell_type": "code",
      "source": [
        "# If you want to see the index, you can simply use df.index\n",
        "print(df.index)\n",
        "\n",
        "# If you want to filter the DataFrame based on the index, you would use square brackets\n",
        "# For example, to get the row with index 0:\n",
        "print(df.loc[0])"
      ],
      "metadata": {
        "colab": {
          "base_uri": "https://localhost:8080/"
        },
        "id": "wDYzHFtodgfw",
        "outputId": "784aded2-d6df-4c7d-fb2b-417835fbdfa9"
      },
      "execution_count": 36,
      "outputs": [
        {
          "output_type": "stream",
          "name": "stdout",
          "text": [
            "RangeIndex(start=0, stop=3, step=1)\n",
            "Name        me\n",
            "Age         24\n",
            "city    nashik\n",
            "Name: 0, dtype: object\n"
          ]
        }
      ]
    },
    {
      "cell_type": "code",
      "source": [],
      "metadata": {
        "id": "FeIquLbUdjxA"
      },
      "execution_count": null,
      "outputs": []
    },
    {
      "cell_type": "code",
      "metadata": {
        "colab": {
          "base_uri": "https://localhost:8080/"
        },
        "id": "2a2760f8",
        "outputId": "fa54bcb0-53a1-4aac-eaf0-ae455a7b49a6"
      },
      "source": [
        "print(df.to_string(index=False))"
      ],
      "execution_count": 39,
      "outputs": [
        {
          "output_type": "stream",
          "name": "stdout",
          "text": [
            "Name  Age   city\n",
            "  me   24 nashik\n",
            "kate   35 nagpur\n",
            "anay   24 dublin\n"
          ]
        }
      ]
    },
    {
      "cell_type": "code",
      "source": [],
      "metadata": {
        "id": "a-GbtbEDeZR5"
      },
      "execution_count": null,
      "outputs": []
    }
  ]
}