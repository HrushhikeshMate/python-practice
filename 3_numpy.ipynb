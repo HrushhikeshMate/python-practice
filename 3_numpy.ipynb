{
  "nbformat": 4,
  "nbformat_minor": 0,
  "metadata": {
    "colab": {
      "provenance": [],
      "authorship_tag": "ABX9TyORyeJ71hOX4owin+MdAroZ",
      "include_colab_link": true
    },
    "kernelspec": {
      "name": "python3",
      "display_name": "Python 3"
    },
    "language_info": {
      "name": "python"
    }
  },
  "cells": [
    {
      "cell_type": "markdown",
      "metadata": {
        "id": "view-in-github",
        "colab_type": "text"
      },
      "source": [
        "<a href=\"https://colab.research.google.com/github/HrushhikeshMate/python-practice/blob/main/3_numpy.ipynb\" target=\"_parent\"><img src=\"https://colab.research.google.com/assets/colab-badge.svg\" alt=\"Open In Colab\"/></a>"
      ]
    },
    {
      "cell_type": "code",
      "execution_count": null,
      "metadata": {
        "colab": {
          "base_uri": "https://localhost:8080/"
        },
        "id": "1muGR1WOMsYP",
        "outputId": "7bc86c83-a5a3-426b-cd59-02648401c01b"
      },
      "outputs": [
        {
          "output_type": "execute_result",
          "data": {
            "text/plain": [
              "array([1, 2, 3, 4, 5])"
            ]
          },
          "metadata": {},
          "execution_count": 2
        }
      ],
      "source": [
        "import numpy as np\n",
        "arr = np.array([1,2,3,4,5])\n",
        "arr"
      ]
    },
    {
      "cell_type": "code",
      "source": [
        "print(arr)"
      ],
      "metadata": {
        "colab": {
          "base_uri": "https://localhost:8080/"
        },
        "id": "26A3nQWANBfG",
        "outputId": "9ecd46e9-5435-42e7-88b2-273b201825d8"
      },
      "execution_count": null,
      "outputs": [
        {
          "output_type": "stream",
          "name": "stdout",
          "text": [
            "[1 2 3 4 5]\n"
          ]
        }
      ]
    },
    {
      "cell_type": "code",
      "source": [
        "arr.reshape(1,5)"
      ],
      "metadata": {
        "colab": {
          "base_uri": "https://localhost:8080/"
        },
        "id": "VOHZQ-oLNUfF",
        "outputId": "b0fa4fce-aa5c-4476-cbf2-be4c21e965fc"
      },
      "execution_count": null,
      "outputs": [
        {
          "output_type": "execute_result",
          "data": {
            "text/plain": [
              "array([[1, 2, 3, 4, 5]])"
            ]
          },
          "metadata": {},
          "execution_count": 4
        }
      ]
    },
    {
      "cell_type": "code",
      "source": [
        "count =0\n",
        "while count <5:\n",
        "  print(count)\n",
        "  count+= 1"
      ],
      "metadata": {
        "id": "ZHi1MlniNXng",
        "outputId": "eadd37a3-5b59-4817-cc92-88a3f92e53b0",
        "colab": {
          "base_uri": "https://localhost:8080/"
        }
      },
      "execution_count": 1,
      "outputs": [
        {
          "output_type": "stream",
          "name": "stdout",
          "text": [
            "0\n",
            "1\n",
            "2\n",
            "3\n",
            "4\n"
          ]
        }
      ]
    },
    {
      "cell_type": "code",
      "source": [
        "n =10\n",
        "sum=0\n",
        "count=1\n",
        "\n",
        "while count <=n:\n",
        "  sum =sum+ count\n",
        "  count +=1\n",
        "\n",
        "print(sum)"
      ],
      "metadata": {
        "id": "t6o10qMJXslt",
        "outputId": "3096e37d-6d7e-4252-c6a5-d4b1847f2061",
        "colab": {
          "base_uri": "https://localhost:8080/"
        }
      },
      "execution_count": 5,
      "outputs": [
        {
          "output_type": "stream",
          "name": "stdout",
          "text": [
            "55\n"
          ]
        }
      ]
    },
    {
      "cell_type": "code",
      "source": [
        "count=0\n",
        "for i in range(11):\n",
        "  count+=i\n",
        "\n",
        "print(count)\n"
      ],
      "metadata": {
        "id": "MVJim4pLYEte",
        "outputId": "efec7bef-9d71-4c84-b564-0eb47e294170",
        "colab": {
          "base_uri": "https://localhost:8080/"
        }
      },
      "execution_count": 10,
      "outputs": [
        {
          "output_type": "stream",
          "name": "stdout",
          "text": [
            "55\n"
          ]
        }
      ]
    },
    {
      "cell_type": "code",
      "source": [
        "count=0\n",
        "for i in range(1,101):\n",
        "  if i >1:\n",
        "    for x in range(2,i):\n",
        "      if i%x==0:\n",
        "        break\n",
        "    else:\n",
        "      print(i, end= ' ')\n",
        "      count+=1\n",
        "\n",
        "print('\\n the count is :',count)"
      ],
      "metadata": {
        "id": "W-Ql1zgBYVhh",
        "outputId": "763f21e3-3312-4082-89bc-26a8b3ad8479",
        "colab": {
          "base_uri": "https://localhost:8080/"
        }
      },
      "execution_count": 19,
      "outputs": [
        {
          "output_type": "stream",
          "name": "stdout",
          "text": [
            "2 3 5 7 11 13 17 19 23 29 31 37 41 43 47 53 59 61 67 71 73 79 83 89 97 \n",
            " the count is : 25\n"
          ]
        }
      ]
    },
    {
      "cell_type": "code",
      "source": [
        "for\n"
      ],
      "metadata": {
        "id": "56k2xy04ZOXI"
      },
      "execution_count": null,
      "outputs": []
    }
  ]
}