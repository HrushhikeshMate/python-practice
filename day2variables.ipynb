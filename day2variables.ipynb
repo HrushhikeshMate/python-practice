{
  "nbformat": 4,
  "nbformat_minor": 0,
  "metadata": {
    "colab": {
      "provenance": [],
      "authorship_tag": "ABX9TyP5wKhr/y+86vmO9pPJubJK",
      "include_colab_link": true
    },
    "kernelspec": {
      "name": "python3",
      "display_name": "Python 3"
    },
    "language_info": {
      "name": "python"
    }
  },
  "cells": [
    {
      "cell_type": "markdown",
      "metadata": {
        "id": "view-in-github",
        "colab_type": "text"
      },
      "source": [
        "<a href=\"https://colab.research.google.com/github/HrushhikeshMate/python-practice/blob/main/day2variables.ipynb\" target=\"_parent\"><img src=\"https://colab.research.google.com/assets/colab-badge.svg\" alt=\"Open In Colab\"/></a>"
      ]
    },
    {
      "cell_type": "code",
      "execution_count": null,
      "metadata": {
        "colab": {
          "base_uri": "https://localhost:8080/"
        },
        "id": "bcB4u35aOgPY",
        "outputId": "3bf0c2f6-dac3-40e2-d472-0ea7f82ad736"
      },
      "outputs": [
        {
          "output_type": "stream",
          "name": "stdout",
          "text": [
            "hi\n"
          ]
        }
      ],
      "source": [
        "print('hi')"
      ]
    },
    {
      "cell_type": "code",
      "source": [
        "# variables in python\n",
        "first_name= 'hrushi'\n",
        "last_name= 'mate'\n",
        "country ='india'\n",
        "city= 'dublin'\n",
        "age='25'\n",
        "is_married ='single'\n",
        "skills =['html','python','sql','r']"
      ],
      "metadata": {
        "id": "eJFVdEA0OnzX"
      },
      "execution_count": null,
      "outputs": []
    },
    {
      "cell_type": "code",
      "source": [
        "person_info={\n",
        "    'fistname':'hrushi',\n",
        "    'lastname':'mate',\n",
        "    'country':'india',\n",
        "    'city':'dublin',\n",
        "    'age':25\n",
        "}"
      ],
      "metadata": {
        "id": "JOaTKCM8PNIW"
      },
      "execution_count": null,
      "outputs": []
    },
    {
      "cell_type": "code",
      "source": [
        "print('first_name',first_name)"
      ],
      "metadata": {
        "colab": {
          "base_uri": "https://localhost:8080/"
        },
        "id": "WMlPhhyxPTdS",
        "outputId": "2b926f2a-c7be-48e3-ea54-74623a8a3823"
      },
      "execution_count": null,
      "outputs": [
        {
          "output_type": "stream",
          "name": "stdout",
          "text": [
            "first_name hrushi\n"
          ]
        }
      ]
    },
    {
      "cell_type": "code",
      "source": [
        "print('personal info is \\t:' , person_info)"
      ],
      "metadata": {
        "colab": {
          "base_uri": "https://localhost:8080/"
        },
        "id": "b6avC2IxPbZy",
        "outputId": "83c4ccf6-7b72-471b-b755-abd0f01910a4"
      },
      "execution_count": null,
      "outputs": [
        {
          "output_type": "stream",
          "name": "stdout",
          "text": [
            "personal info is \t: {'fistname': 'hrushi', 'lastname': 'mate', 'country': 'india', 'city': 'dublin', 'age': 25}\n"
          ]
        }
      ]
    },
    {
      "cell_type": "code",
      "source": [],
      "metadata": {
        "id": "AD8VzGDvPiX1"
      },
      "execution_count": null,
      "outputs": []
    }
  ]
}